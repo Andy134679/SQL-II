{
 "cells": [
  {
   "attachments": {},
   "cell_type": "markdown",
   "metadata": {},
   "source": [
    "1549. The Most Recent Orders for Each Product\n",
    "Table: Customers\n",
    "\n",
    "+---------------+---------+\n",
    "| Column Name   | Type    |\n",
    "+---------------+---------+\n",
    "| customer_id   | int     |\n",
    "| name          | varchar |\n",
    "+---------------+---------+\n",
    "customer_id is the primary key for this table.\n",
    "This table contains information about the customers.\n",
    " \n",
    "\n",
    "Table: Orders\n",
    "\n",
    "+---------------+---------+\n",
    "| Column Name   | Type    |\n",
    "+---------------+---------+\n",
    "| order_id      | int     |\n",
    "| order_date    | date    |\n",
    "| customer_id   | int     |\n",
    "| product_id    | int     |\n",
    "+---------------+---------+\n",
    "order_id is the primary key for this table.\n",
    "This table contains information about the orders made by customer_id.\n",
    "There will be no product ordered by the same user more than once in one day.\n",
    " \n",
    "\n",
    "Table: Products\n",
    "\n",
    "+---------------+---------+\n",
    "| Column Name   | Type    |\n",
    "+---------------+---------+\n",
    "| product_id    | int     |\n",
    "| product_name  | varchar |\n",
    "| price         | int     |\n",
    "+---------------+---------+\n",
    "product_id is the primary key for this table.\n",
    "This table contains information about the Products.\n",
    " \n",
    "\n",
    "Write an SQL query to find the most recent order(s) of each product.\n",
    "\n",
    "Return the result table ordered by product_name in ascending order and in case of a tie by the product_id in ascending order. If there still a tie, order them by order_id in ascending order."
   ]
  },
  {
   "cell_type": "code",
   "execution_count": null,
   "metadata": {
    "vscode": {
     "languageId": "sql"
    }
   },
   "outputs": [],
   "source": [
    "SELECT\n",
    "  p.product_name,\n",
    "  p.product_id,\n",
    "  o.order_id,\n",
    "  o.order_date\n",
    "FROM\n",
    "  Products p\n",
    "  LEFT JOIN Orders o ON p.product_id = o.product_id\n",
    "WHERE\n",
    "  o.order_date = (\n",
    "    SELECT\n",
    "      MAX(order_date)\n",
    "    FROM\n",
    "      Orders\n",
    "    WHERE\n",
    "      product_id = p.product_id\n",
    "  )\n",
    "ORDER BY\n",
    "  p.product_name, p.product_id, o.order_id ASC"
   ]
  },
  {
   "attachments": {},
   "cell_type": "markdown",
   "metadata": {},
   "source": [
    "1321. Restaurant Growth\n",
    "Table: Customer\n",
    "\n",
    "+---------------+---------+\n",
    "| Column Name   | Type    |\n",
    "+---------------+---------+\n",
    "| customer_id   | int     |\n",
    "| name          | varchar |\n",
    "| visited_on    | date    |\n",
    "| amount        | int     |\n",
    "+---------------+---------+\n",
    "(customer_id, visited_on) is the primary key for this table.\n",
    "This table contains data about customer transactions in a restaurant.\n",
    "visited_on is the date on which the customer with ID (customer_id) has visited the restaurant.\n",
    "amount is the total paid by a customer.\n",
    " \n",
    "\n",
    "You are the restaurant owner and you want to analyze a possible expansion (there will be at least one customer every day).\n",
    "\n",
    "Write an SQL query to compute the moving average of how much the customer paid in a seven days window (i.e., current day + 6 days before). average_amount should be rounded to two decimal places.\n",
    "\n",
    "Return result table ordered by visited_on in ascending order."
   ]
  },
  {
   "cell_type": "code",
   "execution_count": null,
   "metadata": {
    "vscode": {
     "languageId": "sql"
    }
   },
   "outputs": [],
   "source": [
    "# Write your MySQL query statement below\n",
    "with perdayamount\n",
    "as\n",
    "(\n",
    "    select visited_on, sum(amount) amount\n",
    "    from Customer\n",
    "    group by visited_on\n",
    ")\n",
    "\n",
    "select c1.visited_on, sum(c2.amount) as amount, round( avg(c2.amount), 2) as average_amount\n",
    "from perdayamount c1\n",
    "join perdayamount c2 on \n",
    "    datediff(c1.visited_on, c2.visited_on) between 0 and 6\n",
    "group by c1.visited_on    \n",
    "having count(1) = 7 "
   ]
  },
  {
   "attachments": {},
   "cell_type": "markdown",
   "metadata": {},
   "source": [
    "1045. Customers Who Bought All Products\n",
    "Table: Customer\n",
    "\n",
    "+-------------+---------+\n",
    "| Column Name | Type    |\n",
    "+-------------+---------+\n",
    "| customer_id | int     |\n",
    "| product_key | int     |\n",
    "+-------------+---------+\n",
    "There is no primary key for this table. It may contain duplicates. customer_id is not NULL.\n",
    "product_key is a foreign key to Product table.\n",
    " \n",
    "\n",
    "Table: Product\n",
    "\n",
    "+-------------+---------+\n",
    "| Column Name | Type    |\n",
    "+-------------+---------+\n",
    "| product_key | int     |\n",
    "+-------------+---------+\n",
    "product_key is the primary key column for this table.\n",
    " \n",
    "\n",
    "Write an SQL query to report the customer ids from the Customer table that bought all the products in the Product table.\n",
    "\n",
    "Return the result table in any order.\n",
    "\n"
   ]
  },
  {
   "cell_type": "code",
   "execution_count": null,
   "metadata": {
    "vscode": {
     "languageId": "sql"
    }
   },
   "outputs": [],
   "source": [
    "SELECT \n",
    "  customer_id \n",
    "FROM \n",
    "  Customer \n",
    "GROUP BY customer_id \n",
    "HAVING COUNT(DISTINCT product_key) = (SELECT COUNT(*) FROM Product)"
   ]
  }
 ],
 "metadata": {
  "language_info": {
   "name": "python"
  },
  "orig_nbformat": 4
 },
 "nbformat": 4,
 "nbformat_minor": 2
}
