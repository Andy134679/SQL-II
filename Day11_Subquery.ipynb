{
 "cells": [
  {
   "attachments": {},
   "cell_type": "markdown",
   "metadata": {},
   "source": [
    "550. Game Play Analysis IV\n",
    "Table: Activity\n",
    "\n",
    "+--------------+---------+\n",
    "| Column Name  | Type    |\n",
    "+--------------+---------+\n",
    "| player_id    | int     |\n",
    "| device_id    | int     |\n",
    "| event_date   | date    |\n",
    "| games_played | int     |\n",
    "+--------------+---------+\n",
    "(player_id, event_date) is the primary key of this table.\n",
    "This table shows the activity of players of some games.\n",
    "Each row is a record of a player who logged in and played a number of games (possibly 0) before logging out on someday using some device.\n",
    " \n",
    "\n",
    "Write an SQL query to report the fraction of players that logged in again on the day after the day they first logged in, rounded to 2 decimal places. In other words, you need to count the number of players that logged in for at least two consecutive days starting from their first login date, then divide that number by the total number of players."
   ]
  },
  {
   "cell_type": "code",
   "execution_count": null,
   "metadata": {
    "vscode": {
     "languageId": "sql"
    }
   },
   "outputs": [],
   "source": [
    "# Write your MySQL query statement below\n",
    "SELECT\n",
    "    ROUND(count(distinct player_id) / (SELECT count(distinct player_id) FROM Activity), 2) as fraction\n",
    "FROM Activity\n",
    "WHERE (player_id, event_date) in (SELECT player_id, DATE(min(event_date)+1) FROM Activity GROUP BY player_id)"
   ]
  },
  {
   "attachments": {},
   "cell_type": "markdown",
   "metadata": {},
   "source": [
    "262. Trips and Users\n",
    "Table: Trips\n",
    "\n",
    "+-------------+----------+\n",
    "| Column Name | Type     |\n",
    "+-------------+----------+\n",
    "| id          | int      |\n",
    "| client_id   | int      |\n",
    "| driver_id   | int      |\n",
    "| city_id     | int      |\n",
    "| status      | enum     |\n",
    "| request_at  | date     |     \n",
    "+-------------+----------+\n",
    "id is the primary key for this table.\n",
    "The table holds all taxi trips. Each trip has a unique id, while client_id and driver_id are foreign keys to the users_id at the Users table.\n",
    "Status is an ENUM type of ('completed', 'cancelled_by_driver', 'cancelled_by_client').\n",
    " \n",
    "\n",
    "Table: Users\n",
    "\n",
    "+-------------+----------+\n",
    "| Column Name | Type     |\n",
    "+-------------+----------+\n",
    "| users_id    | int      |\n",
    "| banned      | enum     |\n",
    "| role        | enum     |\n",
    "+-------------+----------+\n",
    "users_id is the primary key for this table.\n",
    "The table holds all users. Each user has a unique users_id, and role is an ENUM type of ('client', 'driver', 'partner').\n",
    "banned is an ENUM type of ('Yes', 'No').\n",
    " \n",
    "\n",
    "The cancellation rate is computed by dividing the number of canceled (by client or driver) requests with unbanned users by the total number of requests with unbanned users on that day.\n",
    "\n",
    "Write a SQL query to find the cancellation rate of requests with unbanned users (both client and driver must not be banned) each day between \"2013-10-01\" and \"2013-10-03\". Round Cancellation Rate to two decimal points.\n",
    "\n",
    "Return the result table in any order."
   ]
  },
  {
   "cell_type": "code",
   "execution_count": null,
   "metadata": {
    "vscode": {
     "languageId": "sql"
    }
   },
   "outputs": [],
   "source": [
    "SELECT\n",
    "    request_at as Day, ROUND(SUM(IF(status = 'cancelled_by_driver' OR status = 'cancelled_by_client', 1,0)) / count(*), 2) as 'Cancellation Rate'\n",
    "FROM Trips\n",
    "WHERE driver_id in (SELECT users_id FROM Users WHERE banned = 'No') and client_id in (SELECT users_id FROM Users WHERE banned = 'No') and request_at BETWEEN \"2013-10-01\" AND \"2013-10-03\"\n",
    "GROUP BY request_at\n",
    "ORDER BY Day"
   ]
  },
  {
   "cell_type": "code",
   "execution_count": null,
   "metadata": {
    "vscode": {
     "languageId": "sql"
    }
   },
   "outputs": [],
   "source": [
    "# Write your MySQL query statement below\n",
    "with stats as (\n",
    "  select \n",
    "    Request_at, \n",
    "    T.Status <> 'completed' as IsCancelled\n",
    "  from Trips T \n",
    "  join Users C on (Client_Id = C.Users_Id and C.Banned = 'No') \n",
    "  join Users D on (Driver_Id = D.Users_Id and D.Banned = 'No') \n",
    "  where\n",
    "    Request_at between '2013-10-01' and '2013-10-03'\n",
    ")\n",
    "select \n",
    "  Request_at as Day,\n",
    "  Round(\n",
    "    cast(sum(IsCancelled) as real) / cast(count(*) as real),\n",
    "    2\n",
    "  ) as 'Cancellation Rate'\n",
    "from stats\n",
    "group by Request_at"
   ]
  }
 ],
 "metadata": {
  "language_info": {
   "name": "python"
  },
  "orig_nbformat": 4
 },
 "nbformat": 4,
 "nbformat_minor": 2
}
