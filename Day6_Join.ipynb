{
 "cells": [
  {
   "attachments": {},
   "cell_type": "markdown",
   "metadata": {},
   "source": [
    "1294. Weather Type in Each Country\n",
    "Table: Countries\n",
    "\n",
    "+---------------+---------+\n",
    "| Column Name   | Type    |\n",
    "+---------------+---------+\n",
    "| country_id    | int     |\n",
    "| country_name  | varchar |\n",
    "+---------------+---------+\n",
    "country_id is the primary key for this table.\n",
    "Each row of this table contains the ID and the name of one country.\n",
    " \n",
    "\n",
    "Table: Weather\n",
    "\n",
    "+---------------+------+\n",
    "| Column Name   | Type |\n",
    "+---------------+------+\n",
    "| country_id    | int  |\n",
    "| weather_state | int  |\n",
    "| day           | date |\n",
    "+---------------+------+\n",
    "(country_id, day) is the primary key for this table.\n",
    "Each row of this table indicates the weather state in a country for one day.\n",
    " \n",
    "\n",
    "Write an SQL query to find the type of weather in each country for November 2019.\n",
    "\n",
    "The type of weather is:\n",
    "\n",
    "Cold if the average weather_state is less than or equal 15,\n",
    "Hot if the average weather_state is greater than or equal to 25, and\n",
    "Warm otherwise.\n",
    "Return result table in any order."
   ]
  },
  {
   "cell_type": "code",
   "execution_count": null,
   "metadata": {
    "vscode": {
     "languageId": "sql"
    }
   },
   "outputs": [],
   "source": [
    "# Write your MySQL query statement below\n",
    "SELECT\n",
    "country_name, \n",
    "CASE\n",
    "    WHEN sum(weather_state)/count(weather_state) <= 15 THEN 'Cold'\n",
    "    WHEN sum(weather_state)/count(weather_state) >= 25 THEN 'Hot'\n",
    "    ELSE 'Warm'\n",
    "END as weather_type\n",
    "FROM Weather LEFT JOIN Countries USING(country_id)\n",
    "WHERE year(day) = '2019' and month(day) = '11'\n",
    "GROUP BY country_id"
   ]
  },
  {
   "attachments": {},
   "cell_type": "markdown",
   "metadata": {},
   "source": [
    "626. Exchange Seats\n",
    "Table: Seat\n",
    "\n",
    "+-------------+---------+\n",
    "| Column Name | Type    |\n",
    "+-------------+---------+\n",
    "| id          | int     |\n",
    "| student     | varchar |\n",
    "+-------------+---------+\n",
    "id is the primary key column for this table.\n",
    "Each row of this table indicates the name and the ID of a student.\n",
    "id is a continuous increment.\n",
    " \n",
    "\n",
    "Write an SQL query to swap the seat id of every two consecutive students. If the number of students is odd, the id of the last student is not swapped.\n",
    "\n",
    "Return the result table ordered by id in ascending order."
   ]
  },
  {
   "cell_type": "code",
   "execution_count": null,
   "metadata": {
    "vscode": {
     "languageId": "sql"
    }
   },
   "outputs": [],
   "source": [
    "# Write your MySQL query statement below\n",
    "SELECT id,\n",
    "CASE WHEN id%2 = 0 THEN\n",
    "LAG(student,1) OVER (ORDER BY id)\n",
    "WHEN id%2 = 1 THEN\n",
    "IFNULL(LEAD(student,1) OVER (ORDER BY id),student)\n",
    "END AS student\n",
    "FROM Seat"
   ]
  },
  {
   "attachments": {},
   "cell_type": "markdown",
   "metadata": {},
   "source": [
    "1783. Grand Slam Titles\n",
    "Table: Players\n",
    "\n",
    "+----------------+---------+\n",
    "| Column Name    | Type    |\n",
    "+----------------+---------+\n",
    "| player_id      | int     |\n",
    "| player_name    | varchar |\n",
    "+----------------+---------+\n",
    "player_id is the primary key for this table.\n",
    "Each row in this table contains the name and the ID of a tennis player.\n",
    " \n",
    "\n",
    "Table: Championships\n",
    "\n",
    "+---------------+---------+\n",
    "| Column Name   | Type    |\n",
    "+---------------+---------+\n",
    "| year          | int     |\n",
    "| Wimbledon     | int     |\n",
    "| Fr_open       | int     |\n",
    "| US_open       | int     |\n",
    "| Au_open       | int     |\n",
    "+---------------+---------+\n",
    "year is the primary key for this table.\n",
    "Each row of this table contains the IDs of the players who won one each tennis tournament of the grand slam.\n",
    " \n",
    "\n",
    "Write an SQL query to report the number of grand slam tournaments won by each player. Do not include the players who did not win any tournament.\n",
    "\n",
    "Return the result table in any order."
   ]
  },
  {
   "cell_type": "code",
   "execution_count": null,
   "metadata": {
    "vscode": {
     "languageId": "sql"
    }
   },
   "outputs": [],
   "source": [
    "# Write your MySQL query statement below\n",
    "WITH CTE AS\n",
    "(\n",
    "SELECT\n",
    "    Wimbledon as won\n",
    "FROM Championships\n",
    "    UNION ALL\n",
    "SELECT\n",
    "    Fr_open as won\n",
    "FROM Championships\n",
    "    UNION ALL\n",
    "SELECT\n",
    "    US_open as won\n",
    "FROM Championships\n",
    "    UNION ALL\n",
    "SELECT\n",
    "    Au_open as won\n",
    "FROM Championships\n",
    ")\n",
    "\n",
    "SELECT\n",
    "player_id, player_name, COUNT(won) as grand_slams_count\n",
    "FROM \n",
    "Players p JOIN CTE c ON(p.player_id = c.won)\n",
    "GROUP BY player_id, player_name"
   ]
  },
  {
   "attachments": {},
   "cell_type": "markdown",
   "metadata": {},
   "source": [
    "1164. Product Price at a Given Date\n",
    "Table: Products\n",
    "\n",
    "+---------------+---------+\n",
    "| Column Name   | Type    |\n",
    "+---------------+---------+\n",
    "| product_id    | int     |\n",
    "| new_price     | int     |\n",
    "| change_date   | date    |\n",
    "+---------------+---------+\n",
    "(product_id, change_date) is the primary key of this table.\n",
    "Each row of this table indicates that the price of some product was changed to a new price at some date.\n",
    " \n",
    "\n",
    "Write an SQL query to find the prices of all products on 2019-08-16. Assume the price of all products before any change is 10.\n",
    "\n",
    "Return the result table in any order."
   ]
  },
  {
   "cell_type": "code",
   "execution_count": null,
   "metadata": {
    "vscode": {
     "languageId": "sql"
    }
   },
   "outputs": [],
   "source": [
    "SELECT product_id, FIRST_VALUE(new_price) OVER(PARTITION BY product_id ORDER BY change_date DESC) AS price\n",
    "FROM Products\n",
    "WHERE change_date <= '2019-08-16'\n",
    "UNION\n",
    "SELECT DISTINCT product_id, 10 AS price\n",
    "FROM Products\n",
    "WHERE product_id NOT IN (SELECT product_id FROM Products WHERE change_date <= '2019-08-16')"
   ]
  }
 ],
 "metadata": {
  "language_info": {
   "name": "python"
  },
  "orig_nbformat": 4
 },
 "nbformat": 4,
 "nbformat_minor": 2
}
