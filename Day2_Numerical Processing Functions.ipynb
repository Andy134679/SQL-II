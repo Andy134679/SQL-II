{
 "cells": [
  {
   "attachments": {},
   "cell_type": "markdown",
   "metadata": {},
   "source": [
    "1193. Monthly Transactions I\n",
    "\n",
    "Table: Transactions\n",
    "\n",
    "+---------------+---------+\n",
    "\n",
    "| Column Name   | Type    |\n",
    "\n",
    "+---------------+---------+\n",
    "\n",
    "| id            | int     |\n",
    "\n",
    "| country       | varchar |\n",
    "\n",
    "| state         | enum    |\n",
    "\n",
    "| amount        | int     |\n",
    "\n",
    "| trans_date    | date    |\n",
    "\n",
    "+---------------+---------+\n",
    "\n",
    "id is the primary key of this table.\n",
    "The table has information about incoming transactions.\n",
    "The state column is an enum of type [\"approved\", \"declined\"].\n",
    " \n",
    "\n",
    "Write an SQL query to find for each month and country, the number of transactions and their total amount, the number of approved transactions and their total amount.\n",
    "\n",
    "Return the result table in any order."
   ]
  },
  {
   "cell_type": "code",
   "execution_count": null,
   "metadata": {
    "vscode": {
     "languageId": "sql"
    }
   },
   "outputs": [],
   "source": [
    "# Write your MySQL query statement below\n",
    "SELECT\n",
    "date_format(trans_date, '%Y-%m') as month, country, count(*) as trans_count, SUM(if(state = 'approved', 1,0)) as approved_count, SUM(amount) as trans_total_amount, SUM(if (state = 'approved', amount,0)) as approved_total_amount\n",
    "FROM Transactions\n",
    "GROUP BY date_format(trans_date, '%Y-%m'), country"
   ]
  },
  {
   "attachments": {},
   "cell_type": "markdown",
   "metadata": {},
   "source": [
    "1633. Percentage of Users Attended a Contest\n",
    "\n",
    "Table: Users\n",
    "\n",
    "+-------------+---------+\n",
    "\n",
    "| Column Name | Type    |\n",
    "\n",
    "+-------------+---------+\n",
    "\n",
    "| user_id     | int     |\n",
    "\n",
    "| user_name   | varchar |\n",
    "\n",
    "+-------------+---------+\n",
    "\n",
    "user_id is the primary key for this table.\n",
    "Each row of this table contains the name and the id of a user.\n",
    " \n",
    "\n",
    "Table: Register\n",
    "\n",
    "+-------------+---------+\n",
    "\n",
    "| Column Name | Type    |\n",
    "\n",
    "+-------------+---------+\n",
    "\n",
    "| contest_id  | int     |\n",
    "\n",
    "| user_id     | int     |\n",
    "\n",
    "+-------------+---------+\n",
    "\n",
    "(contest_id, user_id) is the primary key for this table.\n",
    "Each row of this table contains the id of a user and the contest they registered into.\n",
    " \n",
    "\n",
    "Write an SQL query to find the percentage of the users registered in each contest rounded to two decimals.\n",
    "\n",
    "Return the result table ordered by percentage in descending order. In case of a tie, order it by contest_id in ascending order."
   ]
  },
  {
   "cell_type": "code",
   "execution_count": null,
   "metadata": {
    "vscode": {
     "languageId": "sql"
    }
   },
   "outputs": [],
   "source": [
    "# Write your MySQL query statement below\n",
    "WITH total_user AS (SELECT count(*) as cnt FROM Users)\n",
    "\n",
    "SELECT\n",
    "contest_id, ROUND(COUNT(*) / cnt * 100,2) as percentage\n",
    "FROM Register r, total_user t\n",
    "GROUP BY contest_id\n",
    "ORDER BY percentage DESC, contest_id"
   ]
  },
  {
   "attachments": {},
   "cell_type": "markdown",
   "metadata": {},
   "source": [
    "1173. Immediate Food Delivery I\n",
    "\n",
    "Table: Delivery\n",
    "\n",
    "+-----------------------------+---------+\n",
    "\n",
    "| Column Name                 | Type    |\n",
    "\n",
    "+-----------------------------+---------+\n",
    "\n",
    "| delivery_id                 | int     |\n",
    "\n",
    "| customer_id                 | int     |\n",
    "\n",
    "| order_date                  | date    |\n",
    "\n",
    "| customer_pref_delivery_date | date    |\n",
    "\n",
    "+-----------------------------+---------+\n",
    "\n",
    "delivery_id is the primary key of this table.\n",
    "The table holds information about food delivery to customers that make orders at some date and specify a preferred delivery date (on the same order date or after it).\n",
    " \n",
    "\n",
    "If the customer's preferred delivery date is the same as the order date, then the order is called immediate; otherwise, it is called scheduled.\n",
    "\n",
    "Write an SQL query to find the percentage of immediate orders in the table, rounded to 2 decimal places."
   ]
  },
  {
   "cell_type": "code",
   "execution_count": null,
   "metadata": {
    "vscode": {
     "languageId": "sql"
    }
   },
   "outputs": [],
   "source": [
    "# Write your MySQL query statement below\n",
    "SELECT ROUND(100*AVG(order_date = customer_pref_delivery_date), 2) AS immediate_percentage\n",
    "FROM Delivery;"
   ]
  },
  {
   "attachments": {},
   "cell_type": "markdown",
   "metadata": {},
   "source": [
    "1211. Queries Quality and Percentage\n",
    "\n",
    "Table: Queries\n",
    "\n",
    "+-------------+---------+\n",
    "\n",
    "| Column Name | Type    |\n",
    "\n",
    "+-------------+---------+\n",
    "\n",
    "| query_name  | varchar |\n",
    "\n",
    "| result      | varchar |\n",
    "\n",
    "| position    | int     |\n",
    "\n",
    "| rating      | int     |\n",
    "\n",
    "+-------------+---------+\n",
    "\n",
    "There is no primary key for this table, it may have duplicate rows.\n",
    "This table contains information collected from some queries on a database.\n",
    "The position column has a value from 1 to 500.\n",
    "The rating column has a value from 1 to 5. Query with rating less than 3 is a poor query.\n",
    " \n",
    "\n",
    "We define query quality as:\n",
    "\n",
    "The average of the ratio between query rating and its position.\n",
    "\n",
    "We also define poor query percentage as:\n",
    "\n",
    "The percentage of all queries with rating less than 3.\n",
    "\n",
    "Write an SQL query to find each query_name, the quality and poor_query_percentage.\n",
    "\n",
    "Both quality and poor_query_percentage should be rounded to 2 decimal places.\n",
    "\n",
    "Return the result table in any order."
   ]
  },
  {
   "cell_type": "code",
   "execution_count": null,
   "metadata": {
    "vscode": {
     "languageId": "sql"
    }
   },
   "outputs": [],
   "source": [
    "# Write your MySQL query statement below\n",
    "SELECT\n",
    "query_name, ROUND(SUM(rating / position) / count(*),2) as quality, ROUND(sum(if(rating < 3, 1, 0)) / count(*) * 100, 2) as poor_query_percentage\n",
    "FROM Queries\n",
    "GROUP BY query_name"
   ]
  }
 ],
 "metadata": {
  "language_info": {
   "name": "python"
  },
  "orig_nbformat": 4
 },
 "nbformat": 4,
 "nbformat_minor": 2
}
