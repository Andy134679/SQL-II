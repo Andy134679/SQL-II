{
 "cells": [
  {
   "attachments": {},
   "cell_type": "markdown",
   "metadata": {},
   "source": [
    "1459. Rectangles Area\n",
    "Table: Points\n",
    "\n",
    "+---------------+---------+\n",
    "| Column Name   | Type    |\n",
    "+---------------+---------+\n",
    "| id            | int     |\n",
    "| x_value       | int     |\n",
    "| y_value       | int     |\n",
    "+---------------+---------+\n",
    "id is the primary key for this table.\n",
    "Each point is represented as a 2D coordinate (x_value, y_value).\n",
    " \n",
    "\n",
    "Write an SQL query to report all possible axis-aligned rectangles with a non-zero area that can be formed by any two points from the Points table.\n",
    "\n",
    "Each row in the result should contain three columns (p1, p2, area) where:\n",
    "\n",
    "p1 and p2 are the id's of the two points that determine the opposite corners of a rectangle.\n",
    "area is the area of the rectangle and must be non-zero.\n",
    "Return the result table ordered by area in descending order. If there is a tie, order them by p1 in ascending order. If there is still a tie, order them by p2 in ascending order."
   ]
  },
  {
   "cell_type": "code",
   "execution_count": null,
   "metadata": {
    "vscode": {
     "languageId": "sql"
    }
   },
   "outputs": [],
   "source": [
    "# Write your MySQL query statement below\n",
    "SELECT\n",
    "p1.id as p1, p2.id as p2, abs(p1.x_value - p2.x_value) * abs(p1.y_value - p2.y_value) as area\n",
    "FROM Points p1 CROSS JOIN Points p2\n",
    "WHERE p1.id < p2.id and p1.x_value != p2.x_value and p1.y_value != p2.y_value\n",
    "ORDER BY area DESC, p1, p2"
   ]
  },
  {
   "attachments": {},
   "cell_type": "markdown",
   "metadata": {},
   "source": [
    "180. Consecutive Numbers\n",
    "Table: Logs\n",
    "\n",
    "+-------------+---------+\n",
    "| Column Name | Type    |\n",
    "+-------------+---------+\n",
    "| id          | int     |\n",
    "| num         | varchar |\n",
    "+-------------+---------+\n",
    "id is the primary key for this table.\n",
    "id is an autoincrement column.\n",
    " \n",
    "\n",
    "Write an SQL query to find all numbers that appear at least three times consecutively.\n",
    "\n",
    "Return the result table in any order."
   ]
  },
  {
   "cell_type": "code",
   "execution_count": null,
   "metadata": {
    "vscode": {
     "languageId": "sql"
    }
   },
   "outputs": [],
   "source": [
    "# Write your MySQL query statement below\n",
    "SELECT\n",
    "DISTINCT num as ConsecutiveNums\n",
    "FROM\n",
    "(SELECT\n",
    "num, LEAD(num,1) OVER (ORDER BY id) as num1, lead(num,2)OVER (ORDER BY id) as num2\n",
    "FROM Logs\n",
    ")n\n",
    "WHERE num = num1 and num = num2"
   ]
  },
  {
   "attachments": {},
   "cell_type": "markdown",
   "metadata": {},
   "source": [
    "1988. Find Cutoff Score for Each School\n",
    "Table: Schools\n",
    "\n",
    "+-------------+------+\n",
    "| Column Name | Type |\n",
    "+-------------+------+\n",
    "| school_id   | int  |\n",
    "| capacity    | int  |\n",
    "+-------------+------+\n",
    "school_id is the primary key for this table.\n",
    "This table contains information about the capacity of some schools. The capacity is the maximum number of students the school can accept.\n",
    " \n",
    "\n",
    "Table: Exam\n",
    "\n",
    "+---------------+------+\n",
    "| Column Name   | Type |\n",
    "+---------------+------+\n",
    "| score         | int  |\n",
    "| student_count | int  |\n",
    "+---------------+------+\n",
    "score is the primary key for this table.\n",
    "Each row in this table indicates that there are student_count students that got at least score points in the exam.\n",
    "The data in this table will be logically correct, meaning a row recording a higher score will have the same or smaller student_count compared to a row recording a lower score. More formally, for every two rows i and j in the table, if scorei > scorej then student_counti <= student_countj.\n",
    " \n",
    "\n",
    "Every year, each school announces a minimum score requirement that a student needs to apply to it. The school chooses the minimum score requirement based on the exam results of all the students:\n",
    "\n",
    "They want to ensure that even if every student meeting the requirement applies, the school can accept everyone.\n",
    "They also want to maximize the possible number of students that can apply.\n",
    "They must use a score that is in the Exam table.\n",
    "Write an SQL query to report the minimum score requirement for each school. If there are multiple score values satisfying the above conditions, choose the smallest one. If the input data is not enough to determine the score, report -1.\n",
    "\n",
    "Return the result table in any order."
   ]
  },
  {
   "cell_type": "code",
   "execution_count": null,
   "metadata": {
    "vscode": {
     "languageId": "sql"
    }
   },
   "outputs": [],
   "source": [
    "# Write your MySQL query statement below\n",
    "SELECT\n",
    "s.school_id, ifnull(score, -1) as score\n",
    "FROM Schools s LEFT JOIN (\n",
    "SELECT\n",
    "school_id, min(e.score) as score\n",
    "FROM Schools s CROSS JOIN Exam e\n",
    "WHERE s.capacity >= e.student_count\n",
    "GROUP BY s.school_id) n USING(school_id)"
   ]
  }
 ],
 "metadata": {
  "language_info": {
   "name": "python"
  },
  "orig_nbformat": 4
 },
 "nbformat": 4,
 "nbformat_minor": 2
}
