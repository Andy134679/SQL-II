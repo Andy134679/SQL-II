{
 "cells": [
  {
   "attachments": {},
   "cell_type": "markdown",
   "metadata": {},
   "source": [
    "1341. Movie Rating\n",
    "Table: Movies\n",
    "\n",
    "+---------------+---------+\n",
    "| Column Name   | Type    |\n",
    "+---------------+---------+\n",
    "| movie_id      | int     |\n",
    "| title         | varchar |\n",
    "+---------------+---------+\n",
    "movie_id is the primary key for this table.\n",
    "title is the name of the movie.\n",
    " \n",
    "\n",
    "Table: Users\n",
    "\n",
    "+---------------+---------+\n",
    "| Column Name   | Type    |\n",
    "+---------------+---------+\n",
    "| user_id       | int     |\n",
    "| name          | varchar |\n",
    "+---------------+---------+\n",
    "user_id is the primary key for this table.\n",
    " \n",
    "\n",
    "Table: MovieRating\n",
    "\n",
    "+---------------+---------+\n",
    "| Column Name   | Type    |\n",
    "+---------------+---------+\n",
    "| movie_id      | int     |\n",
    "| user_id       | int     |\n",
    "| rating        | int     |\n",
    "| created_at    | date    |\n",
    "+---------------+---------+\n",
    "(movie_id, user_id) is the primary key for this table.\n",
    "This table contains the rating of a movie by a user in their review.\n",
    "created_at is the user's review date. \n",
    " \n",
    "\n",
    "Write an SQL query to:\n",
    "\n",
    "Find the name of the user who has rated the greatest number of movies. In case of a tie, return the lexicographically smaller user name.\n",
    "Find the movie name with the highest average rating in February 2020. In case of a tie, return the lexicographically smaller movie name."
   ]
  },
  {
   "cell_type": "code",
   "execution_count": null,
   "metadata": {
    "vscode": {
     "languageId": "sql"
    }
   },
   "outputs": [],
   "source": [
    "# Write your MySQL query statement below\n",
    "(SELECT\n",
    "name as results\n",
    "FROM Users LEFT JOIN MovieRating USING(user_id)\n",
    "GROUP BY user_id\n",
    "ORDER BY count(*) DESC, name ASC\n",
    "LIMIT 1)\n",
    "UNION ALL\n",
    "(SELECT\n",
    "title as results\n",
    "FROM Movies LEFT JOIN MovieRating USING(movie_id)\n",
    "WHERE created_at like \"2020-02-%\"\n",
    "GROUP BY movie_id\n",
    "ORDER BY avg(rating) DESC, title\n",
    "LIMIT 1)"
   ]
  },
  {
   "attachments": {},
   "cell_type": "markdown",
   "metadata": {},
   "source": [
    "1867. Orders With Maximum Quantity Above Average\n",
    "Table: OrdersDetails\n",
    "\n",
    "+-------------+------+\n",
    "| Column Name | Type |\n",
    "+-------------+------+\n",
    "| order_id    | int  |\n",
    "| product_id  | int  |\n",
    "| quantity    | int  |\n",
    "+-------------+------+\n",
    "(order_id, product_id) is the primary key for this table.\n",
    "A single order is represented as multiple rows, one row for each product in the order.\n",
    "Each row of this table contains the quantity ordered of the product product_id in the order order_id.\n",
    " \n",
    "\n",
    "You are running an e-commerce site that is looking for imbalanced orders. An imbalanced order is one whose maximum quantity is strictly greater than the average quantity of every order (including itself).\n",
    "\n",
    "The average quantity of an order is calculated as (total quantity of all products in the order) / (number of different products in the order). The maximum quantity of an order is the highest quantity of any single product in the order.\n",
    "\n",
    "Write an SQL query to find the order_id of all imbalanced orders.\n",
    "\n",
    "Return the result table in any order."
   ]
  },
  {
   "cell_type": "code",
   "execution_count": null,
   "metadata": {
    "vscode": {
     "languageId": "sql"
    }
   },
   "outputs": [],
   "source": [
    "# Write your MySQL query statement below\n",
    "with a as (\n",
    "SELECT\n",
    "    *, avg(quantity) as average, max(quantity) as max_q\n",
    "FROM OrdersDetails\n",
    "GROUP BY order_id\n",
    ")\n",
    "\n",
    "SELECT\n",
    "order_id\n",
    "FROM a\n",
    "WHERE (SELECT max(average) FROM a) < max_q"
   ]
  }
 ],
 "metadata": {
  "language_info": {
   "name": "python"
  },
  "orig_nbformat": 4
 },
 "nbformat": 4,
 "nbformat_minor": 2
}
