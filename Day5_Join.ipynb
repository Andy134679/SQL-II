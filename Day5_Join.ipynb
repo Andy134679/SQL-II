{
 "cells": [
  {
   "attachments": {},
   "cell_type": "markdown",
   "metadata": {},
   "source": [
    "1280. Students and Examinations\n",
    "Table: Students\n",
    "\n",
    "+---------------+---------+\n",
    "| Column Name   | Type    |\n",
    "+---------------+---------+\n",
    "| student_id    | int     |\n",
    "| student_name  | varchar |\n",
    "+---------------+---------+\n",
    "student_id is the primary key for this table.\n",
    "Each row of this table contains the ID and the name of one student in the school.\n",
    " \n",
    "\n",
    "Table: Subjects\n",
    "\n",
    "+--------------+---------+\n",
    "| Column Name  | Type    |\n",
    "+--------------+---------+\n",
    "| subject_name | varchar |\n",
    "+--------------+---------+\n",
    "subject_name is the primary key for this table.\n",
    "Each row of this table contains the name of one subject in the school.\n",
    " \n",
    "\n",
    "Table: Examinations\n",
    "\n",
    "+--------------+---------+\n",
    "| Column Name  | Type    |\n",
    "+--------------+---------+\n",
    "| student_id   | int     |\n",
    "| subject_name | varchar |\n",
    "+--------------+---------+\n",
    "There is no primary key for this table. It may contain duplicates.\n",
    "Each student from the Students table takes every course from the Subjects table.\n",
    "Each row of this table indicates that a student with ID student_id attended the exam of subject_name.\n",
    " \n",
    "\n",
    "Write an SQL query to find the number of times each student attended each exam.\n",
    "\n",
    "Return the result table ordered by student_id and subject_name."
   ]
  },
  {
   "cell_type": "code",
   "execution_count": null,
   "metadata": {
    "vscode": {
     "languageId": "sql"
    }
   },
   "outputs": [],
   "source": [
    "# Write your MySQL query statement below\n",
    "SELECT\n",
    "student_id, student_name, subject_name, IFNULL(attended_exams,0) attended_exams\n",
    "FROM Students\n",
    "CROSS JOIN Subjects\n",
    "LEFT JOIN (SELECT student_id, subject_name, count(*) attended_exams FROM Examinations GROUP BY student_id, subject_name) as n USING (student_id, subject_name)\n",
    "ORDER BY student_id, subject_name"
   ]
  },
  {
   "attachments": {},
   "cell_type": "markdown",
   "metadata": {},
   "source": [
    "1501. Countries You Can Safely Invest In\n",
    "Table Person:\n",
    "\n",
    "+----------------+---------+\n",
    "| Column Name    | Type    |\n",
    "+----------------+---------+\n",
    "| id             | int     |\n",
    "| name           | varchar |\n",
    "| phone_number   | varchar |\n",
    "+----------------+---------+\n",
    "id is the primary key for this table.\n",
    "Each row of this table contains the name of a person and their phone number.\n",
    "Phone number will be in the form 'xxx-yyyyyyy' where xxx is the country code (3 characters) and yyyyyyy is the phone number (7 characters) where x and y are digits. Both can contain leading zeros.\n",
    " \n",
    "\n",
    "Table Country:\n",
    "\n",
    "+----------------+---------+\n",
    "| Column Name    | Type    |\n",
    "+----------------+---------+\n",
    "| name           | varchar |\n",
    "| country_code   | varchar |\n",
    "+----------------+---------+\n",
    "country_code is the primary key for this table.\n",
    "Each row of this table contains the country name and its code. country_code will be in the form 'xxx' where x is digits.\n",
    " \n",
    "\n",
    "Table Calls:\n",
    "\n",
    "+-------------+------+\n",
    "| Column Name | Type |\n",
    "+-------------+------+\n",
    "| caller_id   | int  |\n",
    "| callee_id   | int  |\n",
    "| duration    | int  |\n",
    "+-------------+------+\n",
    "There is no primary key for this table, it may contain duplicates.\n",
    "Each row of this table contains the caller id, callee id and the duration of the call in minutes. caller_id != callee_id\n",
    " \n",
    "\n",
    "A telecommunications company wants to invest in new countries. The company intends to invest in the countries where the average call duration of the calls in this country is strictly greater than the global average call duration.\n",
    "\n",
    "Write an SQL query to find the countries where this company can invest.\n",
    "\n",
    "Return the result table in any order."
   ]
  },
  {
   "cell_type": "code",
   "execution_count": null,
   "metadata": {
    "vscode": {
     "languageId": "sql"
    }
   },
   "outputs": [],
   "source": [
    "SELECT  co.name AS country\n",
    "FROM  Person p\n",
    "JOIN\n",
    "Country co  ON SUBSTRING(phone_number,1,3) = country_code\n",
    "JOIN\n",
    "Calls c ON p.id IN (c.caller_id, c.callee_id)\n",
    "GROUP BY  co.name\n",
    "HAVING  AVG(duration) > (SELECT AVG(duration) FROM Calls)"
   ]
  },
  {
   "attachments": {},
   "cell_type": "markdown",
   "metadata": {},
   "source": [
    "184. Department Highest Salary\n",
    "Table: Employee\n",
    "\n",
    "+--------------+---------+\n",
    "| Column Name  | Type    |\n",
    "+--------------+---------+\n",
    "| id           | int     |\n",
    "| name         | varchar |\n",
    "| salary       | int     |\n",
    "| departmentId | int     |\n",
    "+--------------+---------+\n",
    "id is the primary key column for this table.\n",
    "departmentId is a foreign key of the ID from the Department table.\n",
    "Each row of this table indicates the ID, name, and salary of an employee. It also contains the ID of their department.\n",
    " \n",
    "\n",
    "Table: Department\n",
    "\n",
    "+-------------+---------+\n",
    "| Column Name | Type    |\n",
    "+-------------+---------+\n",
    "| id          | int     |\n",
    "| name        | varchar |\n",
    "+-------------+---------+\n",
    "id is the primary key column for this table. It is guaranteed that department name is not NULL.\n",
    "Each row of this table indicates the ID of a department and its name.\n",
    " \n",
    "\n",
    "Write an SQL query to find employees who have the highest salary in each of the departments.\n",
    "\n",
    "Return the result table in any order."
   ]
  },
  {
   "cell_type": "code",
   "execution_count": null,
   "metadata": {
    "vscode": {
     "languageId": "sql"
    }
   },
   "outputs": [],
   "source": [
    "# Write your MySQL query statement below\n",
    "SELECT\n",
    "d.name as Department, e.name as Employee, salary\n",
    "FROM Employee e\n",
    "LEFT JOIN Department d on e.departmentId = d.id\n",
    "where (salary, departmentId) in (SELECT max(salary), departmentId FROM Employee GROUP BY departmentId)"
   ]
  },
  {
   "cell_type": "code",
   "execution_count": null,
   "metadata": {
    "vscode": {
     "languageId": "sql"
    }
   },
   "outputs": [],
   "source": [
    "# Write your MySQL query statement below\n",
    "SELECT\n",
    "d.name Department, e.name Employee, salary\n",
    "FROM (select *, max(salary) OVER(PARTITION BY departmentId) max_salary FROM Employee) as e\n",
    "JOIN Department d ON d.id = e.departmentId\n",
    "WHERE salary = max_salary"
   ]
  },
  {
   "attachments": {},
   "cell_type": "markdown",
   "metadata": {},
   "source": [
    "580. Count Student Number in Departments\n",
    "Table: Student\n",
    "\n",
    "+--------------+---------+\n",
    "| Column Name  | Type    |\n",
    "+--------------+---------+\n",
    "| student_id   | int     |\n",
    "| student_name | varchar |\n",
    "| gender       | varchar |\n",
    "| dept_id      | int     |\n",
    "+--------------+---------+\n",
    "student_id is the primary key column for this table.\n",
    "dept_id is a foreign key to dept_id in the Department tables.\n",
    "Each row of this table indicates the name of a student, their gender, and the id of their department.\n",
    " \n",
    "\n",
    "Table: Department\n",
    "\n",
    "+-------------+---------+\n",
    "| Column Name | Type    |\n",
    "+-------------+---------+\n",
    "| dept_id     | int     |\n",
    "| dept_name   | varchar |\n",
    "+-------------+---------+\n",
    "dept_id is the primary key column for this table.\n",
    "Each row of this table contains the id and the name of a department.\n",
    " \n",
    "\n",
    "Write an SQL query to report the respective department name and number of students majoring in each department for all departments in the Department table (even ones with no current students).\n",
    "\n",
    "Return the result table ordered by student_number in descending order. In case of a tie, order them by dept_name alphabetically."
   ]
  },
  {
   "cell_type": "code",
   "execution_count": null,
   "metadata": {
    "vscode": {
     "languageId": "sql"
    }
   },
   "outputs": [],
   "source": [
    "# Write your MySQL query statement below\n",
    "SELECT\n",
    "dept_name, count(student_name) as student_number\n",
    "FROM Department d\n",
    "LEFT JOIN Student s USING(dept_id)\n",
    "GROUP BY dept_name\n",
    "ORDER BY student_number DESC, dept_name"
   ]
  }
 ],
 "metadata": {
  "language_info": {
   "name": "python"
  },
  "orig_nbformat": 4
 },
 "nbformat": 4,
 "nbformat_minor": 2
}
