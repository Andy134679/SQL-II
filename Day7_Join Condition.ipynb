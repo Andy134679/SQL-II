{
 "cells": [
  {
   "attachments": {},
   "cell_type": "markdown",
   "metadata": {},
   "source": [
    "603. Consecutive Available Seats\n",
    "Table: Cinema\n",
    "\n",
    "+-------------+------+\n",
    "| Column Name | Type |\n",
    "+-------------+------+\n",
    "| seat_id     | int  |\n",
    "| free        | bool |\n",
    "+-------------+------+\n",
    "seat_id is an auto-increment primary key column for this table.\n",
    "Each row of this table indicates whether the ith seat is free or not. 1 means free while 0 means occupied.\n",
    " \n",
    "\n",
    "Write an SQL query to report all the consecutive available seats in the cinema.\n",
    "\n",
    "Return the result table ordered by seat_id in ascending order.\n",
    "\n",
    "The test cases are generated so that more than two seats are consecutively available."
   ]
  },
  {
   "cell_type": "code",
   "execution_count": null,
   "metadata": {
    "vscode": {
     "languageId": "sql"
    }
   },
   "outputs": [],
   "source": [
    "# Write your MySQL query statement below\n",
    "SELECT DISTINCT t1.seat_id as seat_id\n",
    "FROM cinema as t1 \n",
    "join cinema as t2 \n",
    "ON abs(t1.seat_id - t2.seat_id) = 1 AND \n",
    "t1.free =1 AND t2.free =1 \n",
    "ORDER BY t1.seat_id"
   ]
  },
  {
   "cell_type": "code",
   "execution_count": null,
   "metadata": {
    "vscode": {
     "languageId": "sql"
    }
   },
   "outputs": [],
   "source": [
    "# Write your MySQL query statement below\n",
    "WITH free_seats AS(\n",
    "    SELECT seat_id,\n",
    "            free,\n",
    "            LEAD(free) OVER (ORDER BY seat_id) AS is_next_seat_free,\n",
    "            LAG(free) OVER (ORDER BY seat_id) AS is_prev_seat_free\n",
    "    FROM Cinema )\n",
    "SELECT seat_id\n",
    "FROM free_seats\n",
    "WHERE (free IS TRUE AND is_next_seat_free IS TRUE) OR (free IS TRUE AND is_prev_seat_free IS TRUE)"
   ]
  },
  {
   "attachments": {},
   "cell_type": "markdown",
   "metadata": {},
   "source": [
    "1731. The Number of Employees Which Report to Each Employee\n",
    "Table: Employees\n",
    "\n",
    "+-------------+----------+\n",
    "| Column Name | Type     |\n",
    "+-------------+----------+\n",
    "| employee_id | int      |\n",
    "| name        | varchar  |\n",
    "| reports_to  | int      |\n",
    "| age         | int      |\n",
    "+-------------+----------+\n",
    "employee_id is the primary key for this table.\n",
    "This table contains information about the employees and the id of the manager they report to. Some employees do not report to anyone (reports_to is null). \n",
    " \n",
    "\n",
    "For this problem, we will consider a manager an employee who has at least 1 other employee reporting to them.\n",
    "\n",
    "Write an SQL query to report the ids and the names of all managers, the number of employees who report directly to them, and the average age of the reports rounded to the nearest integer.\n",
    "\n",
    "Return the result table ordered by employee_id."
   ]
  },
  {
   "cell_type": "code",
   "execution_count": null,
   "metadata": {
    "vscode": {
     "languageId": "sql"
    }
   },
   "outputs": [],
   "source": [
    "# Write your MySQL query statement below\n",
    "SELECT\n",
    "n.employee_id, name, reports_count, average_age\n",
    "FROM Employees e LEFT JOIN\n",
    "(SELECT\n",
    "reports_to as employee_id, count(*) as reports_count, round(avg(age),0) as average_age\n",
    "FROM Employees\n",
    "GROUP BY reports_to\n",
    ") n USING(employee_id)\n",
    "WHERE n.employee_id is not null\n",
    "ORDER BY n.employee_id"
   ]
  },
  {
   "attachments": {},
   "cell_type": "markdown",
   "metadata": {},
   "source": [
    "1747. Leetflex Banned Accounts\n",
    "Table: LogInfo\n",
    "\n",
    "+-------------+----------+\n",
    "| Column Name | Type     |\n",
    "+-------------+----------+\n",
    "| account_id  | int      |\n",
    "| ip_address  | int      |\n",
    "| login       | datetime |\n",
    "| logout      | datetime |\n",
    "+-------------+----------+\n",
    "There is no primary key for this table, and it may contain duplicates.\n",
    "The table contains information about the login and logout dates of Leetflex accounts. It also contains the IP address from which the account was logged in and out.\n",
    "It is guaranteed that the logout time is after the login time.\n",
    " \n",
    "\n",
    "Write an SQL query to find the account_id of the accounts that should be banned from Leetflex. An account should be banned if it was logged in at some moment from two different IP addresses.\n",
    "\n",
    "Return the result table in any order."
   ]
  },
  {
   "cell_type": "code",
   "execution_count": null,
   "metadata": {
    "vscode": {
     "languageId": "sql"
    }
   },
   "outputs": [],
   "source": [
    "# Write your MySQL query statement below\n",
    "with n as(\n",
    "  SELECT *, lead(login) OVER (PARTITION BY account_id ORDER BY login) as next_login, lead(ip_address) OVER (PARTITION BY account_id ORDER BY login) as next_ip\n",
    "  FROM LogInfo\n",
    ")\n",
    "\n",
    "SELECT\n",
    "distinct account_id\n",
    "FROM n\n",
    "WHERE (next_login between login and logout) and next_ip != ip_address\n",
    "order by account_id"
   ]
  },
  {
   "cell_type": "code",
   "execution_count": null,
   "metadata": {
    "vscode": {
     "languageId": "sql"
    }
   },
   "outputs": [],
   "source": [
    "# Write your MySQL query statement below\n",
    "SELECT \n",
    "  DISTINCT L1.account_id \n",
    "FROM LogInfo L1\n",
    "JOIN LogInfo L2\n",
    "  ON L1.account_id = L2.account_id \n",
    "  AND L1.ip_address <> L2.ip_address           \n",
    "WHERE (L1.login BETWEEN L2.login AND L2.logout)"
   ]
  },
  {
   "attachments": {},
   "cell_type": "markdown",
   "metadata": {},
   "source": [
    "181. Employees Earning More Than Their Managers\n",
    "Table: Employee\n",
    "\n",
    "+-------------+---------+\n",
    "| Column Name | Type    |\n",
    "+-------------+---------+\n",
    "| id          | int     |\n",
    "| name        | varchar |\n",
    "| salary      | int     |\n",
    "| managerId   | int     |\n",
    "+-------------+---------+\n",
    "id is the primary key column for this table.\n",
    "Each row of this table indicates the ID of an employee, their name, salary, and the ID of their manager.\n",
    " \n",
    "\n",
    "Write an SQL query to find the employees who earn more than their managers.\n",
    "\n",
    "Return the result table in any order."
   ]
  },
  {
   "cell_type": "code",
   "execution_count": null,
   "metadata": {
    "vscode": {
     "languageId": "sql"
    }
   },
   "outputs": [],
   "source": [
    "# Write your MySQL query statement below\n",
    "SELECT\n",
    "e.name as Employee\n",
    "FROM Employee m\n",
    "JOIN Employee e ON m.id = e.managerID\n",
    "WHERE e.salary > m.salary"
   ]
  }
 ],
 "metadata": {
  "language_info": {
   "name": "python"
  },
  "orig_nbformat": 4
 },
 "nbformat": 4,
 "nbformat_minor": 2
}
