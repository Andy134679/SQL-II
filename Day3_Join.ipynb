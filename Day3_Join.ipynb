{
 "cells": [
  {
   "attachments": {},
   "cell_type": "markdown",
   "metadata": {},
   "source": [
    "1607. Sellers With No Sales\n",
    "\n",
    "Table: Customer\n",
    "\n",
    "+---------------+---------+\n",
    "\n",
    "| Column Name   | Type    |\n",
    "\n",
    "+---------------+---------+\n",
    "\n",
    "| customer_id   | int     |\n",
    "\n",
    "| customer_name | varchar |\n",
    "\n",
    "+---------------+---------+\n",
    "\n",
    "customer_id is the primary key for this table.\n",
    "Each row of this table contains the information of each customer in the WebStore.\n",
    " \n",
    "\n",
    "Table: Orders\n",
    "\n",
    "+---------------+---------+\n",
    "\n",
    "| Column Name   | Type    |\n",
    "\n",
    "+---------------+---------+\n",
    "\n",
    "| order_id      | int     |\n",
    "\n",
    "| sale_date     | date    |\n",
    "\n",
    "| order_cost    | int     |\n",
    "\n",
    "| customer_id   | int     |\n",
    "\n",
    "| seller_id     | int     |\n",
    "\n",
    "+---------------+---------+\n",
    "\n",
    "order_id is the primary key for this table.\n",
    "Each row of this table contains all orders made in the webstore.\n",
    "sale_date is the date when the transaction was made between the customer (customer_id) and the seller (seller_id).\n",
    " \n",
    "\n",
    "Table: Seller\n",
    "\n",
    "+---------------+---------+\n",
    "\n",
    "| Column Name   | Type    |\n",
    "\n",
    "+---------------+---------+\n",
    "\n",
    "| seller_id     | int     |\n",
    "\n",
    "| seller_name   | varchar |\n",
    "\n",
    "+---------------+---------+\n",
    "\n",
    "seller_id is the primary key for this table.\n",
    "Each row of this table contains the information of each seller.\n",
    " \n",
    "\n",
    "Write an SQL query to report the names of all sellers who did not make any sales in 2020.\n",
    "\n",
    "Return the result table ordered by seller_name in ascending order."
   ]
  },
  {
   "cell_type": "code",
   "execution_count": null,
   "metadata": {
    "vscode": {
     "languageId": "sql"
    }
   },
   "outputs": [],
   "source": [
    "# Write your MySQL query statement below\n",
    "SELECT\n",
    "seller_name\n",
    "FROM Seller s LEFT JOIN Orders o ON s.seller_id = o.seller_id and YEAR(o.sale_date) = '2020'\n",
    "WHERE o.seller_id is null\n",
    "ORDER BY seller_name"
   ]
  },
  {
   "cell_type": "code",
   "execution_count": null,
   "metadata": {
    "vscode": {
     "languageId": "sql"
    }
   },
   "outputs": [],
   "source": [
    "# Write your MySQL query statement below\n",
    "SELECT\n",
    "seller_name\n",
    "FROM Seller\n",
    "WHERE seller_id NOT IN (SELECT seller_id FROM Orders WHERE year(sale_date) = '2020')\n",
    "ORDER BY seller_name"
   ]
  },
  {
   "attachments": {},
   "cell_type": "markdown",
   "metadata": {},
   "source": [
    "619. Biggest Single Number\n",
    "\n",
    "Table: MyNumbers\n",
    "\n",
    "+-------------+------+\n",
    "\n",
    "| Column Name | Type |\n",
    "\n",
    "+-------------+------+\n",
    "\n",
    "| num         | int  |\n",
    "\n",
    "+-------------+------+\n",
    "\n",
    "There is no primary key for this table. It may contain duplicates.\n",
    "Each row of this table contains an integer.\n",
    " \n",
    "\n",
    "A single number is a number that appeared only once in the MyNumbers table.\n",
    "\n",
    "Write an SQL query to report the largest single number. If there is no single number, report null."
   ]
  },
  {
   "cell_type": "code",
   "execution_count": null,
   "metadata": {
    "vscode": {
     "languageId": "sql"
    }
   },
   "outputs": [],
   "source": [
    "# Write your MySQL query statement below\n",
    "SELECT MAX(num) as num\n",
    "FROM (SELECT num FROM MyNumbers GROUP BY num HAVING COUNT(num) = 1) as n"
   ]
  },
  {
   "attachments": {},
   "cell_type": "markdown",
   "metadata": {},
   "source": [
    "1112. Highest Grade For Each Student\n",
    "\n",
    "Table: Enrollments\n",
    "\n",
    "+---------------+---------+\n",
    "\n",
    "| Column Name   | Type    |\n",
    "\n",
    "+---------------+---------+\n",
    "\n",
    "| student_id    | int     |\n",
    "\n",
    "| course_id     | int     |\n",
    "\n",
    "| grade         | int     |\n",
    "\n",
    "+---------------+---------+\n",
    "\n",
    "(student_id, course_id) is the primary key of this table.\n",
    "grade is never NULL.\n",
    " \n",
    "\n",
    "Write a SQL query to find the highest grade with its corresponding course for each student. In case of a tie, you should find the course with the smallest course_id.\n",
    "\n",
    "Return the result table ordered by student_id in ascending order."
   ]
  },
  {
   "cell_type": "code",
   "execution_count": null,
   "metadata": {
    "vscode": {
     "languageId": "sql"
    }
   },
   "outputs": [],
   "source": [
    "# Write your MySQL query statement below\n",
    "SELECT\n",
    "student_id, MIN(course_id) as course_id, grade\n",
    "FROM Enrollments\n",
    "WHERE (student_id, grade) in (SELECT\n",
    "student_id, MAX(grade)\n",
    "FROM Enrollments\n",
    "GROUP BY student_id)\n",
    "GROUP BY student_id, grade\n",
    "ORDER BY student_id"
   ]
  },
  {
   "attachments": {},
   "cell_type": "markdown",
   "metadata": {},
   "source": [
    "1398. Customers Who Bought Products A and B but Not C\n",
    "\n",
    "Table: Customers\n",
    "\n",
    "+---------------------+---------+\n",
    "\n",
    "| Column Name         | Type    |\n",
    "\n",
    "+---------------------+---------+\n",
    "\n",
    "| customer_id         | int     |\n",
    "\n",
    "| customer_name       | varchar |\n",
    "\n",
    "+---------------------+---------+\n",
    "\n",
    "customer_id is the primary key for this table.\n",
    "customer_name is the name of the customer.\n",
    " \n",
    "\n",
    "Table: Orders\n",
    "\n",
    "+---------------+---------+\n",
    "\n",
    "| Column Name   | Type    |\n",
    "\n",
    "+---------------+---------+\n",
    "\n",
    "| order_id      | int     |\n",
    "\n",
    "| customer_id   | int     |\n",
    "\n",
    "| product_name  | varchar |\n",
    "\n",
    "+---------------+---------+\n",
    "\n",
    "order_id is the primary key for this table.\n",
    "customer_id is the id of the customer who bought the product \"product_name\".\n",
    " \n",
    "\n",
    "Write an SQL query to report the customer_id and customer_name of customers who bought products \"A\", \"B\" but did not buy the product \"C\" since we want to recommend them to purchase this product.\n",
    "\n",
    "Return the result table ordered by customer_id."
   ]
  },
  {
   "cell_type": "code",
   "execution_count": null,
   "metadata": {
    "vscode": {
     "languageId": "sql"
    }
   },
   "outputs": [],
   "source": [
    "# Write your MySQL query statement below\n",
    "SELECT\n",
    "customer_id, customer_name\n",
    "FROM Orders LEFT JOIN Customers USING(customer_id)\n",
    "WHERE \n",
    "customer_id in (SELECT customer_id FROM Orders WHERE product_name = \"A\") and\n",
    "customer_id in (SELECT customer_id FROM Orders WHERE product_name = \"B\") and \n",
    "customer_id not in (SELECT customer_id FROM Orders WHERE product_name = \"C\")\n",
    "GROUP BY customer_id, customer_name"
   ]
  }
 ],
 "metadata": {
  "language_info": {
   "name": "python"
  },
  "orig_nbformat": 4
 },
 "nbformat": 4,
 "nbformat_minor": 2
}
