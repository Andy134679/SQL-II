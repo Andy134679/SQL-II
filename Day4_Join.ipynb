{
 "cells": [
  {
   "attachments": {},
   "cell_type": "markdown",
   "metadata": {},
   "source": [
    "1440. Evaluate Boolean Expression\n",
    "\n",
    "Table Variables:\n",
    "\n",
    "+---------------+---------+\n",
    "\n",
    "| Column Name   | Type    |\n",
    "\n",
    "+---------------+---------+\n",
    "\n",
    "| name          | varchar |\n",
    "\n",
    "| value         | int     |\n",
    "\n",
    "+---------------+---------+\n",
    "\n",
    "name is the primary key for this table.\n",
    "This table contains the stored variables and their values.\n",
    " \n",
    "\n",
    "Table Expressions:\n",
    "\n",
    "+---------------+---------+\n",
    "\n",
    "| Column Name   | Type    |\n",
    "\n",
    "+---------------+---------+\n",
    "\n",
    "| left_operand  | varchar |\n",
    "\n",
    "| operator      | enum    |\n",
    "\n",
    "| right_operand | varchar |\n",
    "\n",
    "+---------------+---------+\n",
    "\n",
    "(left_operand, operator, right_operand) is the primary key for this table.\n",
    "This table contains a boolean expression that should be evaluated.\n",
    "operator is an enum that takes one of the values ('<', '>', '=')\n",
    "The values of left_operand and right_operand are guaranteed to be in the Variables table.\n",
    " \n",
    "\n",
    "Write an SQL query to evaluate the boolean expressions in Expressions table.\n",
    "\n",
    "Return the result table in any order."
   ]
  },
  {
   "cell_type": "code",
   "execution_count": null,
   "metadata": {
    "vscode": {
     "languageId": "sql"
    }
   },
   "outputs": [],
   "source": [
    "# Write your MySQL query statement below\n",
    "SELECT\n",
    "  left_operand, \n",
    "  operator, \n",
    "  right_operand,\n",
    "  CASE  WHEN operator = '>' AND v.value > v1.value THEN 'true'\n",
    "        WHEN operator = '=' AND v.value = v1.value THEN 'true'\n",
    "        WHEN operator = '<' AND v.value < v1.value THEN 'true'\n",
    "  ELSE \"false\" END AS value\n",
    "FROM \n",
    "  Expressions e \n",
    "  LEFT JOIN Variables v ON e.left_operand = v.name\n",
    "  LEFT JOIN Variables v1 ON e.right_operand = v1.name"
   ]
  },
  {
   "attachments": {},
   "cell_type": "markdown",
   "metadata": {},
   "source": [
    "1264. Page Recommendations\n",
    "\n",
    "Table: Friendship\n",
    "\n",
    "+---------------+---------+\n",
    "| Column Name   | Type    |\n",
    "+---------------+---------+\n",
    "| user1_id      | int     |\n",
    "| user2_id      | int     |\n",
    "+---------------+---------+\n",
    "(user1_id, user2_id) is the primary key for this table.\n",
    "Each row of this table indicates that there is a friendship relation between user1_id and user2_id.\n",
    " \n",
    "\n",
    "Table: Likes\n",
    "\n",
    "+-------------+---------+\n",
    "| Column Name | Type    |\n",
    "+-------------+---------+\n",
    "| user_id     | int     |\n",
    "| page_id     | int     |\n",
    "+-------------+---------+\n",
    "(user_id, page_id) is the primary key for this table.\n",
    "Each row of this table indicates that user_id likes page_id.\n",
    " \n",
    "\n",
    "Write an SQL query to recommend pages to the user with user_id = 1 using the pages that your friends liked. It should not recommend pages you already liked.\n",
    "\n",
    "Return result table in any order without duplicates."
   ]
  },
  {
   "cell_type": "code",
   "execution_count": null,
   "metadata": {
    "vscode": {
     "languageId": "sql"
    }
   },
   "outputs": [],
   "source": [
    "# Write your MySQL query statement below\n",
    "SELECT\n",
    "distinct page_id as recommended_page\n",
    "FROM Likes\n",
    "WHERE page_id not in (SELECT page_id from Likes where user_id = 1) and\n",
    "user_id in\n",
    "(\n",
    "    SELECT user1_id FROM Friendship WHERE user2_id = 1\n",
    "    UNION\n",
    "    SELECT user2_id FROM Friendship WHERE user1_id = 1\n",
    ")"
   ]
  },
  {
   "attachments": {},
   "cell_type": "markdown",
   "metadata": {},
   "source": [
    "570. Managers with at Least 5 Direct Reports\n",
    "\n",
    "Table: Employee\n",
    "\n",
    "+-------------+---------+\n",
    "| Column Name | Type    |\n",
    "+-------------+---------+\n",
    "| id          | int     |\n",
    "| name        | varchar |\n",
    "| department  | varchar |\n",
    "| managerId   | int     |\n",
    "+-------------+---------+\n",
    "id is the primary key column for this table.\n",
    "Each row of this table indicates the name of an employee, their department, and the id of their manager.\n",
    "If managerId is null, then the employee does not have a manager.\n",
    "No employee will be the manager of themself.\n",
    " \n",
    "\n",
    "Write an SQL query to report the managers with at least five direct reports.\n",
    "\n",
    "Return the result table in any order."
   ]
  },
  {
   "cell_type": "code",
   "execution_count": null,
   "metadata": {
    "vscode": {
     "languageId": "sql"
    }
   },
   "outputs": [],
   "source": [
    "# Write your MySQL query statement below\n",
    "SELECT\n",
    "name\n",
    "FROM Employee\n",
    "WHERE id in \n",
    "(\n",
    "    SELECT managerID \n",
    "    FROM employee \n",
    "    GROUP BY managerID \n",
    "    HAVING count(managerID) >= 5\n",
    ")"
   ]
  },
  {
   "attachments": {},
   "cell_type": "markdown",
   "metadata": {},
   "source": [
    "1303. Find the Team Size\n",
    "\n",
    "Table: Employee\n",
    "\n",
    "+---------------+---------+\n",
    "| Column Name   | Type    |\n",
    "+---------------+---------+\n",
    "| employee_id   | int     |\n",
    "| team_id       | int     |\n",
    "+---------------+---------+\n",
    "employee_id is the primary key for this table.\n",
    "Each row of this table contains the ID of each employee and their respective team.\n",
    " \n",
    "\n",
    "Write an SQL query to find the team size of each of the employees.\n",
    "\n",
    "Return result table in any order."
   ]
  },
  {
   "cell_type": "code",
   "execution_count": null,
   "metadata": {
    "vscode": {
     "languageId": "sql"
    }
   },
   "outputs": [],
   "source": [
    "# Write your MySQL query statement below\n",
    "SELECT\n",
    "e.employee_id, team_size\n",
    "FROM Employee e, (SELECT team_id, count(*) as team_size FROM Employee GROUP BY team_id) n\n",
    "WHERE n.team_id = e.team_id"
   ]
  }
 ],
 "metadata": {
  "language_info": {
   "name": "python"
  },
  "orig_nbformat": 4
 },
 "nbformat": 4,
 "nbformat_minor": 2
}
