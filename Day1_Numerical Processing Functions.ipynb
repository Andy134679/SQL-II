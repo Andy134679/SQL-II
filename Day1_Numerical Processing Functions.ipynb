{
 "cells": [
  {
   "attachments": {},
   "cell_type": "markdown",
   "metadata": {},
   "source": [
    "1699. Number of Calls Between Two Persons\n",
    "\n",
    "Table: Calls\n",
    "\n",
    "+-------------+---------+\n",
    "\n",
    "| Column Name | Type    |\n",
    "\n",
    "+-------------+---------+\n",
    "\n",
    "| from_id     | int     |\n",
    "\n",
    "| to_id       | int     |\n",
    "\n",
    "| duration    | int     |\n",
    "\n",
    "+-------------+---------+\n",
    "\n",
    "This table does not have a primary key, it may contain duplicates.\n",
    "This table contains the duration of a phone call between from_id and to_id.\n",
    "from_id != to_id\n",
    " \n",
    "\n",
    "Write an SQL query to report the number of calls and the total call duration between each pair of distinct persons (person1, person2) where person1 < person2.\n",
    "\n",
    "Return the result table in any order."
   ]
  },
  {
   "cell_type": "code",
   "execution_count": null,
   "metadata": {
    "vscode": {
     "languageId": "sql"
    }
   },
   "outputs": [],
   "source": [
    "# Write your MySQL query statement below\n",
    "SELECT\n",
    "from_id as person1, to_id as person2, count(*) as call_count, sum(duration) as total_duration\n",
    "FROM Calls\n",
    "GROUP BY LEAST(from_id, to_id), GREATEST(from_id, to_id)"
   ]
  },
  {
   "attachments": {},
   "cell_type": "markdown",
   "metadata": {},
   "source": [
    "1251. Average Selling Price\n",
    "\n",
    "Table: Prices\n",
    "\n",
    "+---------------+---------+\n",
    "\n",
    "| Column Name   | Type    |\n",
    "\n",
    "+---------------+---------+\n",
    "\n",
    "| product_id    | int     |\n",
    "\n",
    "| start_date    | date    |\n",
    "\n",
    "| end_date      | date    |\n",
    "\n",
    "| price         | int     |\n",
    "\n",
    "+---------------+---------+\n",
    "\n",
    "(product_id, start_date, end_date) is the primary key for this table.\n",
    "Each row of this table indicates the price of the product_id in the period from start_date to end_date.\n",
    "For each product_id there will be no two overlapping periods. That means there will be no two intersecting periods for the same product_id.\n",
    " \n",
    "\n",
    "Table: UnitsSold\n",
    "\n",
    "+---------------+---------+\n",
    "\n",
    "| Column Name   | Type    |\n",
    "\n",
    "+---------------+---------+\n",
    "\n",
    "| product_id    | int     |\n",
    "\n",
    "| purchase_date | date    |\n",
    "\n",
    "| units         | int     |\n",
    "\n",
    "+---------------+---------+\n",
    "\n",
    "There is no primary key for this table, it may contain duplicates.\n",
    "Each row of this table indicates the date, units, and product_id of each product sold. \n",
    " \n",
    "\n",
    "Write an SQL query to find the average selling price for each product. average_price should be rounded to 2 decimal places.\n",
    "\n",
    "Return the result table in any order.\n",
    "\n"
   ]
  },
  {
   "cell_type": "code",
   "execution_count": null,
   "metadata": {
    "vscode": {
     "languageId": "sql"
    }
   },
   "outputs": [],
   "source": [
    "# Write your MySQL query statement below\n",
    "SELECT\n",
    "product_id, ROUND(SUM(u.units*p.price)/sum(u.units),2) as average_price\n",
    "FROM UnitsSold as u LEFT JOIN Prices as p USING(product_id)\n",
    "WHERE u.purchase_date between p.start_date and p.end_date\n",
    "GROUP BY product_id"
   ]
  },
  {
   "attachments": {},
   "cell_type": "markdown",
   "metadata": {},
   "source": [
    "1571. Warehouse Manager\n",
    "\n",
    "Table: Warehouse\n",
    "\n",
    "+--------------+---------+\n",
    "\n",
    "| Column Name  | Type    |\n",
    "\n",
    "+--------------+---------+\n",
    "\n",
    "| name         | varchar |\n",
    "\n",
    "| product_id   | int     |\n",
    "\n",
    "| units        | int     |\n",
    "\n",
    "+--------------+---------+\n",
    "\n",
    "(name, product_id) is the primary key for this table.\n",
    "Each row of this table contains the information of the products in each warehouse.\n",
    " \n",
    "\n",
    "Table: Products\n",
    "\n",
    "+---------------+---------+\n",
    "\n",
    "| Column Name   | Type    |\n",
    "\n",
    "+---------------+---------+\n",
    "\n",
    "| product_id    | int     |\n",
    "\n",
    "| product_name  | varchar |\n",
    "\n",
    "| Width         | int     |\n",
    "\n",
    "| Length        | int     |\n",
    "\n",
    "| Height        | int     |\n",
    "\n",
    "+---------------+---------+\n",
    "\n",
    "product_id is the primary key for this table.\n",
    "Each row of this table contains information about the product dimensions (Width, Lenght, and Height) in feets of each product.\n",
    " \n",
    "\n",
    "Write an SQL query to report the number of cubic feet of volume the inventory occupies in each warehouse.\n",
    "\n",
    "Return the result table in any order.\n",
    "\n"
   ]
  },
  {
   "cell_type": "code",
   "execution_count": null,
   "metadata": {
    "vscode": {
     "languageId": "sql"
    }
   },
   "outputs": [],
   "source": [
    "# Write your MySQL query statement below\n",
    "SELECT\n",
    "w.name as warehouse_name, SUM(p.Width*p.Length*p.Height*w.units) as volume\n",
    "FROM Warehouse as w LEFT JOIN Products as p USING(product_id)\n",
    "GROUP BY w.name"
   ]
  },
  {
   "attachments": {},
   "cell_type": "markdown",
   "metadata": {},
   "source": [
    "1445. Apples & Oranges\n",
    "\n",
    "Table: Sales\n",
    "\n",
    "+---------------+---------+\n",
    "\n",
    "| Column Name   | Type    |\n",
    "\n",
    "+---------------+---------+\n",
    "\n",
    "| sale_date     | date    |\n",
    "\n",
    "| fruit         | enum    | \n",
    "\n",
    "| sold_num      | int     | \n",
    "\n",
    "+---------------+---------+\n",
    "\n",
    "(sale_date, fruit) is the primary key for this table.\n",
    "This table contains the sales of \"apples\" and \"oranges\" sold each day.\n",
    " \n",
    "\n",
    "Write an SQL query to report the difference between the number of apples and oranges sold each day.\n",
    "\n",
    "Return the result table ordered by sale_date."
   ]
  },
  {
   "cell_type": "code",
   "execution_count": null,
   "metadata": {
    "vscode": {
     "languageId": "sql"
    }
   },
   "outputs": [],
   "source": [
    "# Write your MySQL query statement below\n",
    "SELECT\n",
    "sale_date, SUM(CASE WHEN fruit = 'apples' THEN 1 ELSE -1 END * sold_num) as diff\n",
    "FROM Sales\n",
    "GROUP BY sale_date\n",
    "ORDER BY sale_date ASC"
   ]
  }
 ],
 "metadata": {
  "language_info": {
   "name": "python"
  },
  "orig_nbformat": 4
 },
 "nbformat": 4,
 "nbformat_minor": 2
}
